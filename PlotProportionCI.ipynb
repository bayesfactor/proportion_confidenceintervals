{
 "cells": [
  {
   "cell_type": "code",
   "execution_count": 1,
   "metadata": {},
   "outputs": [],
   "source": [
    "%matplotlib inline\n",
    "import statsmodels.api as sms\n",
    "import ipywidgets as widgets\n",
    "from IPython.display import display\n",
    "import matplotlib.pyplot as plt\n",
    "import numpy as np"
   ]
  },
  {
   "cell_type": "code",
   "execution_count": 18,
   "metadata": {},
   "outputs": [
    {
     "data": {
      "application/vnd.jupyter.widget-view+json": {
       "model_id": "096d7e52af964809b1a759ebbdcbb544",
       "version_major": 2,
       "version_minor": 0
      },
      "text/plain": [
       "interactive(children=(IntSlider(value=3, description='number_groups', max=10, min=1), Output()), _dom_classes=…"
      ]
     },
     "metadata": {},
     "output_type": "display_data"
    },
    {
     "data": {
      "application/vnd.jupyter.widget-view+json": {
       "model_id": "9594e2173e754e418eb787843a44914f",
       "version_major": 2,
       "version_minor": 0
      },
      "text/plain": [
       "Button(description='Plot', style=ButtonStyle())"
      ]
     },
     "metadata": {},
     "output_type": "display_data"
    },
    {
     "data": {
      "image/png": "[encoded data removed]",
      "text/plain": [
       "<Figure size 432x288 with 1 Axes>"
      ]
     },
     "metadata": {
      "needs_background": "light"
     },
     "output_type": "display_data"
    },
    {
     "data": {
      "image/png": "[encoded data removed]",
      "text/plain": [
       "<Figure size 432x288 with 1 Axes>"
      ]
     },
     "metadata": {
      "needs_background": "light"
     },
     "output_type": "display_data"
    }
   ],
   "source": [
    "sliderNs = []\n",
    "sliderys = []\n",
    "number_gropus = widgets.IntSlider(min=1, max=10, value=5, style={'description_width':'auto'})\n",
    "@widgets.interact(number_groups=(1, 10))\n",
    "def f(number_groups=3):\n",
    "    global sliderys, sliderNs\n",
    "    sliderNs = [widgets.IntSlider(min=1, max=100, step=1, description=f'N{i}:', value=3) for i in range(1, number_groups+1)]\n",
    "    sliderys = [widgets.IntSlider(min=0, max=100, step=1, description=f'successes {i}:', value=3) for i in range(1, number_groups+1)]\n",
    "    display(widgets.HBox(children=[widgets.VBox(children=sliderNs), widgets.VBox(children=sliderys)]))\n",
    "\n",
    "def plot2(b=None, ax=None):\n",
    "    ns = np.array([s.value for s in sliderNs])\n",
    "    ys = np.array([s.value for s in sliderys])\n",
    "    #print(ns, ys)\n",
    "    cis = []\n",
    "    for i,(y, n) in enumerate(zip(ys, ns)):\n",
    "        if y>n:\n",
    "            print(f'error, y{i+1} must be <= N{i+1}')\n",
    "            return\n",
    "    cis = sms.stats.proportion_confint(ys, ns, alpha=0.05, method='agresti_coull')\n",
    "    groups = [f'group {i}' for i in range(1, 1+len(sliderNs))]\n",
    "    ax.plot(groups, ys/ns, 'o')\n",
    "    ax.plot(groups, cis[0], '_k', markersize=14)\n",
    "    ax.plot(groups, cis[1], '_k', markersize=14)\n",
    "    ax.set_ylabel('Proportion', fontsize=13)\n",
    "    ax.set_ylim([0, 1])\n",
    "\n",
    "btn = widgets.Button(description='Plot')\n",
    "display(btn)\n",
    "@btn.on_click\n",
    "def plot_on_click(b):\n",
    "    ax = plt.gca()\n",
    "    plot2(b=b, ax=ax)\n",
    "    plt.xticks(fontsize=13, rotation=-90)\n",
    "    plt.yticks(fontsize=13)"
   ]
  }
 ],
 "metadata": {
  "kernelspec": {
   "display_name": "Python 3",
   "language": "python",
   "name": "python3"
  },
  "language_info": {
   "codemirror_mode": {
    "name": "ipython",
    "version": 3
   },
   "file_extension": ".py",
   "mimetype": "text/x-python",
   "name": "python",
   "nbconvert_exporter": "python",
   "pygments_lexer": "ipython3",
   "version": "3.7.6"
  }
 },
 "nbformat": 4,
 "nbformat_minor": 4
}
